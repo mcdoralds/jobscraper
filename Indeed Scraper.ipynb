{
 "cells": [
  {
   "cell_type": "markdown",
   "id": "5e8bb092",
   "metadata": {},
   "source": [
    "## I. SETUP"
   ]
  },
  {
   "cell_type": "code",
   "execution_count": 1,
   "id": "fcc8d793",
   "metadata": {},
   "outputs": [],
   "source": [
    "import csv\n",
    "from datetime import datetime\n",
    "from splinter import Browser\n",
    "from bs4 import BeautifulSoup as soup\n",
    "from webdriver_manager.chrome import ChromeDriverManager\n",
    "import requests\n",
    "import pandas as pd"
   ]
  },
  {
   "cell_type": "markdown",
   "id": "80aeb6bb",
   "metadata": {},
   "source": [
    "### Set up model for query URL"
   ]
  },
  {
   "cell_type": "code",
   "execution_count": 2,
   "id": "40b07809",
   "metadata": {},
   "outputs": [],
   "source": [
    "# Generate an Indeed link based on specified job title and location\n",
    "def get_url(position, location):\n",
    "    template = 'https://www.indeed.com/jobs?q={}&l={}'\n",
    "    position = position.replace(' ', '+')\n",
    "    location = location.replace(' ', '+')\n",
    "    url = template.format(position, location)\n",
    "    return url"
   ]
  },
  {
   "cell_type": "code",
   "execution_count": 3,
   "id": "3ef9024b",
   "metadata": {},
   "outputs": [],
   "source": [
    "# Set up query URL\n",
    "url = get_url('data analyst', 'los angeles ca')\n",
    "\n",
    "# to-do: get user input as variables for url"
   ]
  },
  {
   "cell_type": "markdown",
   "id": "e5588b35",
   "metadata": {},
   "source": [
    "### Activate Splinter browser"
   ]
  },
  {
   "cell_type": "code",
   "execution_count": 4,
   "id": "10fe0e61",
   "metadata": {},
   "outputs": [
    {
     "name": "stdout",
     "output_type": "stream",
     "text": [
      "\n"
     ]
    }
   ],
   "source": [
    "# Set up Splinter\n",
    "executable_path = {'executable_path': ChromeDriverManager().install()}\n",
    "browser = Browser('chrome', **executable_path, headless=False)\n",
    "\n",
    "# Visit URL in Splinter Browser\n",
    "browser.visit(url)"
   ]
  },
  {
   "cell_type": "markdown",
   "id": "909a1b56",
   "metadata": {},
   "source": [
    "### Set up model for storing job listing info"
   ]
  },
  {
   "cell_type": "code",
   "execution_count": 5,
   "id": "eb88a925",
   "metadata": {},
   "outputs": [],
   "source": [
    "# function to create a single job listing record\n",
    "def get_info(listing):\n",
    "    link = listing.h2.a\n",
    "    url = 'https://www.indeed.com' + link.get('href')\n",
    "    job_title = link.get('span','title')\n",
    "    company_name = listing.find('span', 'companyName').text.strip()\n",
    "    location = listing.find('div', 'companyLocation').text.strip() # may need further cleanup\n",
    "    job_summary = listing.find('div', 'job-snippet').text.strip()\n",
    "    job_summary.replace('\\n', \" \")\n",
    "    date = listing.find('span', 'date').text.strip()\n",
    "    date.replace(\"Posted \",\" \")\n",
    "    today = datetime.today().strftime('%m-%d-%Y')\n",
    "    try: \n",
    "        salary = listing.find('div', 'attribute_snippet').text.strip()\n",
    "    except AttributeError:\n",
    "        salary = 'not listed'\n",
    "    source = 'Indeed'\n",
    "        \n",
    "    record = (company_name, job_title, location, salary, job_summary, date, url, source, today)\n",
    "    \n",
    "    return record"
   ]
  },
  {
   "cell_type": "markdown",
   "id": "3fec37fe",
   "metadata": {},
   "source": [
    "## II. RUNNING THE SCRAPER"
   ]
  },
  {
   "cell_type": "markdown",
   "id": "33ec3c69",
   "metadata": {},
   "source": [
    "### Set up model for scraper"
   ]
  },
  {
   "cell_type": "code",
   "execution_count": 6,
   "id": "8269f3df",
   "metadata": {},
   "outputs": [],
   "source": [
    "def scrape(position, location, pages):\n",
    "    url = get_url(position, location)\n",
    "    \n",
    "    for x in range(1, pages+1): # Loops through pages\n",
    "        html = browser.html\n",
    "        job_soup = soup(html, 'html.parser')\n",
    "        job_listings = job_soup.find_all('div', 'cardOutline')\n",
    "        \n",
    "        for listing in job_listings: # Goes through each listing on the page\n",
    "            record = get_info(listing)\n",
    "            indeed_records.append(record)\n",
    "            page = x\n",
    "#           print(page)\n",
    "            \n",
    "        browser.find_by_css('a[aria-label=\"Next Page\"]').click()\n",
    "#     print (indeed_records)"
   ]
  },
  {
   "cell_type": "markdown",
   "id": "e67aa63f",
   "metadata": {},
   "source": [
    "### Run Scraper"
   ]
  },
  {
   "cell_type": "code",
   "execution_count": 7,
   "id": "bff1ccbe",
   "metadata": {},
   "outputs": [],
   "source": [
    "indeed_records = []\n",
    "scrape('data analyst', 'los angeles ca', 25)"
   ]
  },
  {
   "cell_type": "markdown",
   "id": "cea53190",
   "metadata": {},
   "source": [
    "### Save data to dataframe"
   ]
  },
  {
   "cell_type": "code",
   "execution_count": 8,
   "id": "1cd580ba",
   "metadata": {},
   "outputs": [],
   "source": [
    "# saves all listings in indeed_records to a dataframe\n",
    "records_df = pd.DataFrame(indeed_records, columns = ['Company', 'Title', 'Location', 'Salary', 'Job Summary', 'Listing Date', 'Link', 'Source', 'Date Scraped'])"
   ]
  },
  {
   "cell_type": "code",
   "execution_count": 9,
   "id": "29bc7246",
   "metadata": {},
   "outputs": [
    {
     "data": {
      "text/html": [
       "<div>\n",
       "<style scoped>\n",
       "    .dataframe tbody tr th:only-of-type {\n",
       "        vertical-align: middle;\n",
       "    }\n",
       "\n",
       "    .dataframe tbody tr th {\n",
       "        vertical-align: top;\n",
       "    }\n",
       "\n",
       "    .dataframe thead th {\n",
       "        text-align: right;\n",
       "    }\n",
       "</style>\n",
       "<table border=\"1\" class=\"dataframe\">\n",
       "  <thead>\n",
       "    <tr style=\"text-align: right;\">\n",
       "      <th></th>\n",
       "      <th>Company</th>\n",
       "      <th>Title</th>\n",
       "      <th>Location</th>\n",
       "      <th>Salary</th>\n",
       "      <th>Job Summary</th>\n",
       "      <th>Listing Date</th>\n",
       "      <th>Link</th>\n",
       "      <th>Source</th>\n",
       "      <th>Date Scraped</th>\n",
       "    </tr>\n",
       "  </thead>\n",
       "  <tbody>\n",
       "    <tr>\n",
       "      <th>0</th>\n",
       "      <td>Dogtra Company</td>\n",
       "      <td>title</td>\n",
       "      <td>Garden Grove, CA 92841</td>\n",
       "      <td>$70,000 - $80,000 a year</td>\n",
       "      <td>Coordinate with other departments such as Sale...</td>\n",
       "      <td>EmployerActive 2 days ago</td>\n",
       "      <td>https://www.indeed.com/pagead/clk?mo=r&amp;ad=-6NY...</td>\n",
       "      <td>Indeed</td>\n",
       "      <td>04-01-2023</td>\n",
       "    </tr>\n",
       "    <tr>\n",
       "      <th>1</th>\n",
       "      <td>Spokeo</td>\n",
       "      <td>title</td>\n",
       "      <td>Remote in Pasadena, CA 91101</td>\n",
       "      <td>$102,600 - $153,000 a year</td>\n",
       "      <td>5% - Inform and support the executive team in ...</td>\n",
       "      <td>PostedPosted 30+ days ago</td>\n",
       "      <td>https://www.indeed.com/rc/clk?jk=b1a6ad99b83ce...</td>\n",
       "      <td>Indeed</td>\n",
       "      <td>04-01-2023</td>\n",
       "    </tr>\n",
       "    <tr>\n",
       "      <th>2</th>\n",
       "      <td>TikTok</td>\n",
       "      <td>title</td>\n",
       "      <td>Los Angeles, CA</td>\n",
       "      <td>$79,800 - $130,888 a year</td>\n",
       "      <td>This new security-first division was created t...</td>\n",
       "      <td>PostedPosted 15 days ago</td>\n",
       "      <td>https://www.indeed.com/rc/clk?jk=9603141b2a08a...</td>\n",
       "      <td>Indeed</td>\n",
       "      <td>04-01-2023</td>\n",
       "    </tr>\n",
       "    <tr>\n",
       "      <th>3</th>\n",
       "      <td>Kaiser Permanente</td>\n",
       "      <td>title</td>\n",
       "      <td>Pasadena, CA</td>\n",
       "      <td>$85,800 - $110,990 a year</td>\n",
       "      <td>Prepares data for analytic efforts by consolid...</td>\n",
       "      <td>PostedPosted 4 days ago</td>\n",
       "      <td>https://www.indeed.com/rc/clk?jk=15566ec483dce...</td>\n",
       "      <td>Indeed</td>\n",
       "      <td>04-01-2023</td>\n",
       "    </tr>\n",
       "    <tr>\n",
       "      <th>4</th>\n",
       "      <td>SAG-Producers Pension Plan</td>\n",
       "      <td>title</td>\n",
       "      <td>Burbank, CA 91505</td>\n",
       "      <td>$130,732 - $196,098 a year</td>\n",
       "      <td>Minimum 5 years in a quantitative data analyti...</td>\n",
       "      <td>PostedPosted 30+ days ago</td>\n",
       "      <td>https://www.indeed.com/rc/clk?jk=7d11d33788237...</td>\n",
       "      <td>Indeed</td>\n",
       "      <td>04-01-2023</td>\n",
       "    </tr>\n",
       "  </tbody>\n",
       "</table>\n",
       "</div>"
      ],
      "text/plain": [
       "                      Company  Title                      Location  \\\n",
       "0              Dogtra Company  title        Garden Grove, CA 92841   \n",
       "1                      Spokeo  title  Remote in Pasadena, CA 91101   \n",
       "2                      TikTok  title               Los Angeles, CA   \n",
       "3           Kaiser Permanente  title                  Pasadena, CA   \n",
       "4  SAG-Producers Pension Plan  title             Burbank, CA 91505   \n",
       "\n",
       "                       Salary  \\\n",
       "0    $70,000 - $80,000 a year   \n",
       "1  $102,600 - $153,000 a year   \n",
       "2   $79,800 - $130,888 a year   \n",
       "3   $85,800 - $110,990 a year   \n",
       "4  $130,732 - $196,098 a year   \n",
       "\n",
       "                                         Job Summary  \\\n",
       "0  Coordinate with other departments such as Sale...   \n",
       "1  5% - Inform and support the executive team in ...   \n",
       "2  This new security-first division was created t...   \n",
       "3  Prepares data for analytic efforts by consolid...   \n",
       "4  Minimum 5 years in a quantitative data analyti...   \n",
       "\n",
       "                Listing Date  \\\n",
       "0  EmployerActive 2 days ago   \n",
       "1  PostedPosted 30+ days ago   \n",
       "2   PostedPosted 15 days ago   \n",
       "3    PostedPosted 4 days ago   \n",
       "4  PostedPosted 30+ days ago   \n",
       "\n",
       "                                                Link  Source Date Scraped  \n",
       "0  https://www.indeed.com/pagead/clk?mo=r&ad=-6NY...  Indeed   04-01-2023  \n",
       "1  https://www.indeed.com/rc/clk?jk=b1a6ad99b83ce...  Indeed   04-01-2023  \n",
       "2  https://www.indeed.com/rc/clk?jk=9603141b2a08a...  Indeed   04-01-2023  \n",
       "3  https://www.indeed.com/rc/clk?jk=15566ec483dce...  Indeed   04-01-2023  \n",
       "4  https://www.indeed.com/rc/clk?jk=7d11d33788237...  Indeed   04-01-2023  "
      ]
     },
     "execution_count": 9,
     "metadata": {},
     "output_type": "execute_result"
    }
   ],
   "source": [
    "records_df.head()"
   ]
  },
  {
   "cell_type": "markdown",
   "id": "0bced0f6",
   "metadata": {},
   "source": [
    "## III. EXPORT"
   ]
  },
  {
   "cell_type": "code",
   "execution_count": 11,
   "id": "263ae981",
   "metadata": {},
   "outputs": [],
   "source": [
    "records_df.to_csv('J:\\Documents\\Projects\\jobscraper\\indeed_listings.csv', index=False)"
   ]
  },
  {
   "cell_type": "code",
   "execution_count": null,
   "id": "b47f6962",
   "metadata": {},
   "outputs": [],
   "source": []
  }
 ],
 "metadata": {
  "kernelspec": {
   "display_name": "Python 3 (ipykernel)",
   "language": "python",
   "name": "python3"
  },
  "language_info": {
   "codemirror_mode": {
    "name": "ipython",
    "version": 3
   },
   "file_extension": ".py",
   "mimetype": "text/x-python",
   "name": "python",
   "nbconvert_exporter": "python",
   "pygments_lexer": "ipython3",
   "version": "3.9.12"
  }
 },
 "nbformat": 4,
 "nbformat_minor": 5
}
