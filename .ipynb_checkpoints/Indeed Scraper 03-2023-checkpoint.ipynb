{
 "cells": [
  {
   "cell_type": "markdown",
   "id": "d8febc8a",
   "metadata": {},
   "source": [
    "# Indeed Job Scraper"
   ]
  },
  {
   "cell_type": "markdown",
   "id": "c1c459c9",
   "metadata": {},
   "source": [
    "### SETUP"
   ]
  },
  {
   "cell_type": "code",
   "execution_count": 1,
   "id": "832ad158",
   "metadata": {},
   "outputs": [],
   "source": [
    "import csv\n",
    "from datetime import datetime\n",
    "from splinter import Browser\n",
    "from bs4 import BeautifulSoup as soup\n",
    "from webdriver_manager.chrome import ChromeDriverManager\n",
    "import requests"
   ]
  },
  {
   "cell_type": "code",
   "execution_count": 2,
   "id": "1057f3ea",
   "metadata": {},
   "outputs": [
    {
     "name": "stdout",
     "output_type": "stream",
     "text": [
      "\n"
     ]
    }
   ],
   "source": [
    "# Set up Splinter\n",
    "executable_path = {'executable_path': ChromeDriverManager().install()}\n",
    "browser = Browser('chrome', **executable_path, headless=False)"
   ]
  },
  {
   "cell_type": "code",
   "execution_count": 3,
   "id": "6b4f1936",
   "metadata": {},
   "outputs": [],
   "source": [
    "source = 'Indeed'"
   ]
  },
  {
   "cell_type": "code",
   "execution_count": 4,
   "id": "6955f832",
   "metadata": {},
   "outputs": [],
   "source": [
    "# Generate an Indeed link based on specified job title and location\n",
    "def get_url(position, location):\n",
    "    template = 'https://www.indeed.com/jobs?q={}&l={}'\n",
    "    position = position.replace(' ', '+')\n",
    "    location = location.replace(' ', '+')\n",
    "    url = template.format(position, location)\n",
    "    return url"
   ]
  },
  {
   "cell_type": "code",
   "execution_count": 5,
   "id": "a1a8deb6",
   "metadata": {},
   "outputs": [],
   "source": [
    "url = get_url('data analyst', 'los angeles ca')\n",
    "\n",
    "# to-do: get user input as variables for url"
   ]
  },
  {
   "cell_type": "code",
   "execution_count": 6,
   "id": "be0ae547",
   "metadata": {},
   "outputs": [],
   "source": [
    "# Visit URL in Splinter Browser\n",
    "browser.visit(url)"
   ]
  },
  {
   "cell_type": "code",
   "execution_count": 7,
   "id": "1170fe96",
   "metadata": {},
   "outputs": [],
   "source": [
    "# Parse HTML data using BS4\n",
    "html = browser.html\n",
    "job_soup = soup(html, 'html.parser')"
   ]
  },
  {
   "cell_type": "code",
   "execution_count": 8,
   "id": "62794b74",
   "metadata": {},
   "outputs": [],
   "source": [
    "job_listings = job_soup.find_all('div', 'cardOutline')"
   ]
  },
  {
   "cell_type": "markdown",
   "id": "7827636d",
   "metadata": {},
   "source": [
    "### CREATE THE MODEL FOR SINGLE JOB LISTING"
   ]
  },
  {
   "cell_type": "code",
   "execution_count": 9,
   "id": "065a7431",
   "metadata": {},
   "outputs": [],
   "source": [
    "listing = job_listings[0]"
   ]
  },
  {
   "cell_type": "code",
   "execution_count": 10,
   "id": "1b9b02ea",
   "metadata": {},
   "outputs": [],
   "source": [
    "link = listing.h2.a"
   ]
  },
  {
   "cell_type": "code",
   "execution_count": 11,
   "id": "7dff53b8",
   "metadata": {},
   "outputs": [],
   "source": [
    "job_title = link.get('title')"
   ]
  },
  {
   "cell_type": "code",
   "execution_count": 12,
   "id": "a0bdfc7f",
   "metadata": {},
   "outputs": [],
   "source": [
    "job_url = 'https://www.indeed.com' + link.get('href')"
   ]
  },
  {
   "cell_type": "code",
   "execution_count": 13,
   "id": "c3f3d55d",
   "metadata": {},
   "outputs": [],
   "source": [
    "company_name = listing.find('span', 'companyName').text.strip()"
   ]
  },
  {
   "cell_type": "code",
   "execution_count": 14,
   "id": "9008282c",
   "metadata": {},
   "outputs": [],
   "source": [
    "location = listing.find('div', 'companyLocation').text.strip() # may need further cleanup"
   ]
  },
  {
   "cell_type": "code",
   "execution_count": 15,
   "id": "59ed37cf",
   "metadata": {},
   "outputs": [
    {
     "data": {
      "text/plain": [
       "'5% - Inform and support the executive team in ad-hoc data analysis studies. We collect data from a wide variety of public sources and need someone with a…'"
      ]
     },
     "execution_count": 15,
     "metadata": {},
     "output_type": "execute_result"
    }
   ],
   "source": [
    "job_summary = listing.find('div', 'job-snippet').text.strip()\n",
    "job_summary.replace('\\n', \" \")"
   ]
  },
  {
   "cell_type": "code",
   "execution_count": 16,
   "id": "93a76b64",
   "metadata": {},
   "outputs": [
    {
     "data": {
      "text/plain": [
       "'Posted 30+ days ago'"
      ]
     },
     "execution_count": 16,
     "metadata": {},
     "output_type": "execute_result"
    }
   ],
   "source": [
    "date = listing.find('span', 'date').text.strip()\n",
    "date.replace(\"Posted \",\" \")"
   ]
  },
  {
   "cell_type": "code",
   "execution_count": 17,
   "id": "501de2a6",
   "metadata": {},
   "outputs": [],
   "source": [
    "today = datetime.today().strftime('%m-%d-%Y')"
   ]
  },
  {
   "cell_type": "code",
   "execution_count": 18,
   "id": "d6686df9",
   "metadata": {},
   "outputs": [],
   "source": [
    "# Check for salary info\n",
    "try: \n",
    "    salary = listing.find('div', 'attribute_snippet').text.strip()\n",
    "except AttributeError:\n",
    "    salary = 'not listed'"
   ]
  },
  {
   "cell_type": "code",
   "execution_count": 19,
   "id": "1cea8ffc",
   "metadata": {},
   "outputs": [
    {
     "data": {
      "text/plain": [
       "('Spokeo',\n",
       " None,\n",
       " 'Remote in Pasadena, CA 91101',\n",
       " '$102,600 - $153,000 a year',\n",
       " '5% - Inform and support the executive team in ad-hoc data analysis studies.\\nWe collect data from a wide variety of public sources and need someone with a…',\n",
       " 'PostedPosted 30+ days ago',\n",
       " 'https://www.indeed.com/rc/clk?jk=b1a6ad99b83ceed0&fccid=8f3c0373bcfa5520&vjs=3',\n",
       " 'Indeed')"
      ]
     },
     "execution_count": 19,
     "metadata": {},
     "output_type": "execute_result"
    }
   ],
   "source": [
    "record = (company_name, job_title, location, salary, job_summary, date, job_url, source)\n",
    "record"
   ]
  },
  {
   "cell_type": "markdown",
   "id": "d323571a",
   "metadata": {},
   "source": [
    "### CREATE MODEL FOR ALL JOB LISTINGS"
   ]
  },
  {
   "cell_type": "code",
   "execution_count": 20,
   "id": "9685cbb7",
   "metadata": {},
   "outputs": [],
   "source": [
    "def get_info(listing):\n",
    "    link = listing.h2.a\n",
    "    job_title = link.get('title')\n",
    "    job_url = 'https://www.indeed.com' + link.get('href')\n",
    "    company_name = listing.find('span', 'companyName').text.strip()\n",
    "    location = listing.find('div', 'companyLocation').text.strip() # may need further cleanup\n",
    "    job_summary = listing.find('div', 'job-snippet').text.strip()\n",
    "    job_summary.replace('\\n', \" \")\n",
    "    date = listing.find('span', 'date').text.strip()\n",
    "    date.replace(\"Posted \",\" \")\n",
    "    today = datetime.today().strftime('%m-%d-%Y')\n",
    "    try: \n",
    "        salary = listing.find('div', 'attribute_snippet').text.strip()\n",
    "    except AttributeError:\n",
    "        salary = 'not listed'\n",
    "    source = 'Indeed'\n",
    "        \n",
    "    record = (company_name, job_title, location, salary, job_summary, date, job_url, source)\n",
    "    \n",
    "    return record"
   ]
  },
  {
   "cell_type": "code",
   "execution_count": 21,
   "id": "490cae3a",
   "metadata": {},
   "outputs": [],
   "source": [
    "#get_info(listing)"
   ]
  },
  {
   "cell_type": "code",
   "execution_count": 23,
   "id": "b9e2399e",
   "metadata": {},
   "outputs": [],
   "source": [
    "records = []\n",
    "\n",
    "for listing in job_listings:\n",
    "    record = get_info(listing)\n",
    "    records.append(record)"
   ]
  },
  {
   "cell_type": "code",
   "execution_count": 24,
   "id": "e097937e",
   "metadata": {},
   "outputs": [
    {
     "data": {
      "text/plain": [
       "[('Spokeo',\n",
       "  None,\n",
       "  'Remote in Pasadena, CA 91101',\n",
       "  '$102,600 - $153,000 a year',\n",
       "  '5% - Inform and support the executive team in ad-hoc data analysis studies.\\nWe collect data from a wide variety of public sources and need someone with a…',\n",
       "  'PostedPosted 30+ days ago',\n",
       "  'https://www.indeed.com/rc/clk?jk=b1a6ad99b83ceed0&fccid=8f3c0373bcfa5520&vjs=3',\n",
       "  'Indeed'),\n",
       " ('TikTok',\n",
       "  None,\n",
       "  'Los Angeles, CA+2 locations',\n",
       "  '$79,800 - $130,888 a year',\n",
       "  'This new security-first division was created to bring heightened focus and governance to our data protection policies and content assurance protocols to keep U…',\n",
       "  'PostedPosted 14 days ago',\n",
       "  'https://www.indeed.com/rc/clk?jk=9603141b2a08a9cd&fccid=caed318a9335aac0&vjs=3',\n",
       "  'Indeed'),\n",
       " ('SAG-Producers Pension Plan',\n",
       "  None,\n",
       "  'Burbank, CA 91505',\n",
       "  '$130,732 - $196,098 a year',\n",
       "  'Minimum 5 years in a quantitative data analytics role with emphasis on data preparation, analysis and presentation.',\n",
       "  'PostedPosted 30+ days ago',\n",
       "  'https://www.indeed.com/rc/clk?jk=7d11d33788237811&fccid=dd616958bd9ddc12&vjs=3',\n",
       "  'Indeed'),\n",
       " ('REVOLVE',\n",
       "  None,\n",
       "  'Cerritos, CA 90703',\n",
       "  '$90,000 a year',\n",
       "  'Advanced SQL experience, query optimization, data extract.\\nConduct complex analysis and build models to uncover key learning form data, leading to appropriate…',\n",
       "  'PostedPosted 21 days ago',\n",
       "  'https://www.indeed.com/rc/clk?jk=3eef3e9e4f6b7d51&fccid=2c04aefbc361fe41&vjs=3',\n",
       "  'Indeed'),\n",
       " ('REVOLVE',\n",
       "  None,\n",
       "  'Cerritos, CA 90703',\n",
       "  '$107,000 - $115,000 a year',\n",
       "  'Data Acquisition, Develop data set processes.\\nPrepare data for predictive and forecast modeling.\\nDeliver ad-hoc/updates to key stakeholders based on analytics &…',\n",
       "  'PostedPosted 21 days ago',\n",
       "  'https://www.indeed.com/rc/clk?jk=7593abf403e7daa3&fccid=2c04aefbc361fe41&vjs=3',\n",
       "  'Indeed'),\n",
       " ('Kaiser Permanente',\n",
       "  None,\n",
       "  'Pasadena, CA+1 location',\n",
       "  '$85,800 - $110,990 a year',\n",
       "  'Prepares data for analytic efforts by consolidating data; reviewing data for quality and accuracy; profiling data inaccuracies; and cleaning and creating final…',\n",
       "  'PostedPosted 3 days ago',\n",
       "  'https://www.indeed.com/rc/clk?jk=15566ec483dce750&fccid=48ecd526e3aa3225&vjs=3',\n",
       "  'Indeed'),\n",
       " ('National Tax Advisory Services',\n",
       "  None,\n",
       "  'Encino, CA 91436',\n",
       "  'Full-time',\n",
       "  'Experience with data modeling, data warehousing, and data mining.\\nMinimum of 2 years of experience in data analysis or related field.',\n",
       "  'EmployerActive 2 days ago',\n",
       "  'https://www.indeed.com/rc/clk?jk=0607ca8bcd9a7326&fccid=4a42c3ba3908fd52&vjs=3',\n",
       "  'Indeed'),\n",
       " ('Numentica LLC',\n",
       "  None,\n",
       "  'Los Angeles, CA 90001\\xa0(Florence area)',\n",
       "  'Full-time',\n",
       "  '3+ years in banking, operations or compliance regulations and policies related to BSA/AML Performing analysis to assess quality and meaning of data Well…',\n",
       "  'EmployerActive 10 days ago',\n",
       "  'https://www.indeed.com/company/Numentica/jobs/Data-Analyst-b61a81f11fa41806?fccid=d69983d939b0a59f&vjs=3',\n",
       "  'Indeed'),\n",
       " ('Beach House Group',\n",
       "  None,\n",
       "  'Remote in El Segundo, CA',\n",
       "  '$100,000 - $150,000 a year',\n",
       "  'Conduct data analysis and modeling to identify trends, patterns, and insights in ecommerce data.\\nStrong analytical skills, with the ability to translate data…',\n",
       "  'PostedPosted 24 days ago',\n",
       "  'https://www.indeed.com/rc/clk?jk=50ff58aec733a02f&fccid=9f5502bf7140ba66&vjs=3',\n",
       "  'Indeed'),\n",
       " ('One Federal Solution',\n",
       "  None,\n",
       "  'Los Angeles, CA',\n",
       "  'not listed',\n",
       "  'Extract data from data base.\\nExtract data from agency data base for management and program reports.\\nPerform data entry relevant to case.',\n",
       "  'PostedPosted 10 days ago',\n",
       "  'https://www.indeed.com/rc/clk?jk=25dee05c746018cf&fccid=6813f0d4414c8cf3&vjs=3',\n",
       "  'Indeed'),\n",
       " ('Dollar Shave Club',\n",
       "  None,\n",
       "  'Los Angeles, CA 90066',\n",
       "  '$120,000 - $140,000 a year',\n",
       "  'Provide data structure requirements to Data Engineering and build data sets for exploration as needed (by stitching disparate data sources from A/B tests,…',\n",
       "  'PostedPosted 30+ days ago',\n",
       "  'https://www.indeed.com/rc/clk?jk=b6859d827a189aed&fccid=0976a600bb93f7de&vjs=3',\n",
       "  'Indeed'),\n",
       " ('AEG Worldwide',\n",
       "  None,\n",
       "  'Los Angeles, CA',\n",
       "  'not listed',\n",
       "  'Years of related work experience: 3-5 Years.\\nMaintain and Improve data integrity and functionality within our internal data reporting platform.',\n",
       "  'PostedPosted 30+ days ago',\n",
       "  'https://www.indeed.com/rc/clk?jk=46a530dc489dba60&fccid=ffd8b720f648a264&vjs=3',\n",
       "  'Indeed'),\n",
       " ('Impact Theory',\n",
       "  None,\n",
       "  'Los Angeles, CA',\n",
       "  '$90,000 - $115,000 a year',\n",
       "  'Expert in data visualization tools.\\n7+ years of data analytics experience.\\nReceive, evaluate, and respond to data-related inquiries by applying knowledge of…',\n",
       "  'PostedPosted 23 days ago',\n",
       "  'https://www.indeed.com/rc/clk?jk=347d4ce26ad484e6&fccid=1d99692c5155db30&vjs=3',\n",
       "  'Indeed'),\n",
       " ('Endeavor Operating Company, LLC',\n",
       "  None,\n",
       "  'Beverly Hills, CA',\n",
       "  'From $64,480 a year',\n",
       "  'The Endeavor network specializes in talent representation, sports operations & advisory, event & experiences management, media production & distribution,…',\n",
       "  'PostedPosted 2 days ago',\n",
       "  'https://www.indeed.com/rc/clk?jk=8030c87e4e81e9f9&fccid=58432e03a7f9aaeb&vjs=3',\n",
       "  'Indeed'),\n",
       " ('Numentica LLC',\n",
       "  None,\n",
       "  'Los Angeles, CA',\n",
       "  '$120,000 - $125,000 a year',\n",
       "  '5+ years in banking, operations or compliance regulations and policies related to BSA/AML Performing analysis to assess quality and meaning of data Well…',\n",
       "  'EmployerActive 2 days ago',\n",
       "  'https://www.indeed.com/company/Numentica/jobs/Senior-Data-Analyst-39aa91c24aa005a4?fccid=d69983d939b0a59f&vjs=3',\n",
       "  'Indeed')]"
      ]
     },
     "execution_count": 24,
     "metadata": {},
     "output_type": "execute_result"
    }
   ],
   "source": [
    "records"
   ]
  },
  {
   "cell_type": "code",
   "execution_count": null,
   "id": "f75c69f2",
   "metadata": {},
   "outputs": [],
   "source": []
  },
  {
   "cell_type": "code",
   "execution_count": null,
   "id": "b6d5ac94",
   "metadata": {},
   "outputs": [],
   "source": []
  },
  {
   "cell_type": "code",
   "execution_count": null,
   "id": "89cc9aca",
   "metadata": {},
   "outputs": [],
   "source": []
  },
  {
   "cell_type": "code",
   "execution_count": null,
   "id": "d899ad5d",
   "metadata": {},
   "outputs": [],
   "source": []
  },
  {
   "cell_type": "code",
   "execution_count": null,
   "id": "05326c67",
   "metadata": {},
   "outputs": [],
   "source": []
  },
  {
   "cell_type": "code",
   "execution_count": null,
   "id": "bf4d2cc3",
   "metadata": {},
   "outputs": [],
   "source": []
  }
 ],
 "metadata": {
  "kernelspec": {
   "display_name": "Python 3 (ipykernel)",
   "language": "python",
   "name": "python3"
  },
  "language_info": {
   "codemirror_mode": {
    "name": "ipython",
    "version": 3
   },
   "file_extension": ".py",
   "mimetype": "text/x-python",
   "name": "python",
   "nbconvert_exporter": "python",
   "pygments_lexer": "ipython3",
   "version": "3.9.12"
  }
 },
 "nbformat": 4,
 "nbformat_minor": 5
}
